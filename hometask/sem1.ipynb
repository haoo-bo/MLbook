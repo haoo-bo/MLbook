{
  "cells": [
    {
      "cell_type": "markdown",
      "metadata": {
        "id": "SWpzzBKX5lab"
      },
      "source": [
        "# Библиотеки"
      ]
    },
    {
      "cell_type": "code",
      "execution_count": 1,
      "metadata": {
        "id": "DVElVx3w5lag"
      },
      "outputs": [],
      "source": [
        "from zlib import crc32\n",
        "\n",
        "import numpy as np\n",
        "import pandas as pd\n",
        "import scipy.stats as st\n",
        "from collections import Counter"
      ]
    },
    {
      "cell_type": "markdown",
      "metadata": {
        "id": "W10bESh65lah"
      },
      "source": [
        "# Код генерации выборки"
      ]
    },
    {
      "cell_type": "code",
      "execution_count": 2,
      "metadata": {
        "id": "-dRusc3I5lai"
      },
      "outputs": [],
      "source": [
        "import re\n",
        "EMAIL_REGEX = re.compile(r\"[^@]+@phystech.edu\")\n",
        "\n",
        "def generate_dataset(code):\n",
        "    rs = np.random.RandomState(code)\n",
        "    full_data = np.concatenate(\n",
        "        [\n",
        "            rs.randint(low=0, high=251, size=5000),\n",
        "            rs.randint(low=-250, high=0, size=5000)\n",
        "        ]\n",
        "    )\n",
        "\n",
        "    mode_cnt = st.mode(full_data)[1]\n",
        "    counts = Counter(full_data.tolist())\n",
        "\n",
        "    to_add = []\n",
        "    for i in range(rs.randint(low = 1, high = 5)):\n",
        "        obj_to_add = int(rs.randint(low=-250, high=251, size=1))\n",
        "        to_add += [obj_to_add for _ in range(0, int(mode_cnt - counts.get(obj_to_add, 0)))]\n",
        "\n",
        "    full_data = np.concatenate([full_data, to_add])\n",
        "    rs.shuffle(full_data)\n",
        "    return np.array(full_data)"
      ]
    },
    {
      "cell_type": "markdown",
      "metadata": {
        "id": "LXkXPYIz5laj"
      },
      "source": [
        "# Генерация выборки для вашей почты\n",
        "\n",
        "<span style=\"color:red\">\n",
        "    ВАЖНО!\n",
        "    Почта, которую укажете ниже и почта с которой Вы отправляете домашнее задание должна совпадать!\n",
        "    В момент проверки задания алгоритм генерирует выборку на основе почты из анкеты!\n",
        "</span>\n",
        "\n",
        "Внимательно проверьте почту для которой выполняется задание!"
      ]
    },
    {
      "cell_type": "code",
      "execution_count": 3,
      "metadata": {
        "id": "h8bMsPHy5laj",
        "colab": {
          "base_uri": "https://localhost:8080/"
        },
        "outputId": "7a9ecb30-bec5-4c38-e9ee-9975f38ae607"
      },
      "outputs": [
        {
          "name": "stdout",
          "output_type": "stream",
          "text": [
            "Enter your mail: kashchenko.ai@phystech.edu\n"
          ]
        },
        {
          "output_type": "stream",
          "name": "stderr",
          "text": [
            "<ipython-input-2-e3535dd6b45c>:18: DeprecationWarning: Conversion of an array with ndim > 0 to a scalar is deprecated, and will error in future. Ensure you extract a single element from your array before performing this operation. (Deprecated NumPy 1.25.)\n",
            "  obj_to_add = int(rs.randint(low=-250, high=251, size=1))\n"
          ]
        },
        {
          "output_type": "execute_result",
          "data": {
            "text/plain": [
              "{'mail': 'kashchenko.ai@phystech.edu',\n",
              " 'id': 3680662687,\n",
              " 'data': array([ 171,   51,   49, ...,   -2, -129,  171])}"
            ]
          },
          "metadata": {},
          "execution_count": 3
        }
      ],
      "source": [
        "task = dict()\n",
        "task['mail'] = input(prompt='Enter your mail: ')\n",
        "assert EMAIL_REGEX.match(task['mail']), 'Not a mail in the phystech.edu domain'\n",
        "task['id'] = crc32(task['mail'].encode('utf-8'))\n",
        "task['data'] = generate_dataset(task['id'])\n",
        "\n",
        "task"
      ]
    },
    {
      "cell_type": "markdown",
      "metadata": {
        "id": "WprDKyMv5lak"
      },
      "source": [
        "# Работа с выборкой"
      ]
    },
    {
      "cell_type": "code",
      "execution_count": 4,
      "metadata": {
        "id": "ZHQaq3RJ5lal"
      },
      "outputs": [],
      "source": [
        "data = task['data']"
      ]
    },
    {
      "cell_type": "code",
      "source": [
        "data = np.array(data)"
      ],
      "metadata": {
        "id": "7ZN3WRBbIVMT"
      },
      "execution_count": 6,
      "outputs": []
    },
    {
      "cell_type": "markdown",
      "source": [
        "## Среднее"
      ],
      "metadata": {
        "id": "0fAnRfaYm7-e"
      }
    },
    {
      "cell_type": "code",
      "execution_count": 11,
      "metadata": {
        "id": "y3U23VKk5lal",
        "colab": {
          "base_uri": "https://localhost:8080/"
        },
        "outputId": "80804a36-497e-448e-d79c-8990b7bdebc0"
      },
      "outputs": [
        {
          "output_type": "execute_result",
          "data": {
            "text/plain": [
              "0.3746012759170654"
            ]
          },
          "metadata": {},
          "execution_count": 11
        }
      ],
      "source": [
        "data.mean()"
      ]
    },
    {
      "cell_type": "markdown",
      "source": [
        "## Медиана"
      ],
      "metadata": {
        "id": "gWov4G9anCsg"
      }
    },
    {
      "cell_type": "code",
      "source": [
        "np.median(data)"
      ],
      "metadata": {
        "id": "1Bjctcs9nFAQ",
        "colab": {
          "base_uri": "https://localhost:8080/"
        },
        "outputId": "909acf7e-d839-4450-8c5f-36daead0ebd6"
      },
      "execution_count": 9,
      "outputs": [
        {
          "output_type": "execute_result",
          "data": {
            "text/plain": [
              "-1.0"
            ]
          },
          "metadata": {},
          "execution_count": 9
        }
      ]
    },
    {
      "cell_type": "markdown",
      "source": [
        "## Дисперсия (несмещенная оценка)"
      ],
      "metadata": {
        "id": "phScuV9znFfK"
      }
    },
    {
      "cell_type": "code",
      "source": [
        "np.std(data, ddof=1)"
      ],
      "metadata": {
        "id": "1TuORikNnJTh",
        "colab": {
          "base_uri": "https://localhost:8080/"
        },
        "outputId": "9edddbac-f78a-4713-b3f0-d61728a318ba"
      },
      "execution_count": 12,
      "outputs": [
        {
          "output_type": "execute_result",
          "data": {
            "text/plain": [
              "145.04267494231414"
            ]
          },
          "metadata": {},
          "execution_count": 12
        }
      ]
    },
    {
      "cell_type": "markdown",
      "source": [
        "## Мода (максимальная)"
      ],
      "metadata": {
        "id": "TLgppdpgnJv8"
      }
    },
    {
      "cell_type": "code",
      "source": [
        "unique_values, counts = np.unique(data, return_counts=True)\n",
        "max_frequency = np.max(counts)\n",
        "modes = unique_values[counts == max_frequency]\n",
        "modes"
      ],
      "metadata": {
        "colab": {
          "base_uri": "https://localhost:8080/"
        },
        "id": "G370Vv1qKIvo",
        "outputId": "21656820-103a-4bc4-a1bc-4dc8df7e7150"
      },
      "execution_count": 17,
      "outputs": [
        {
          "output_type": "execute_result",
          "data": {
            "text/plain": [
              "array([-86, -84, -65, -61,  30])"
            ]
          },
          "metadata": {},
          "execution_count": 17
        }
      ]
    },
    {
      "cell_type": "code",
      "source": [
        "modes.max()"
      ],
      "metadata": {
        "colab": {
          "base_uri": "https://localhost:8080/"
        },
        "id": "tTxsxbyxKPsI",
        "outputId": "8f26577b-c96b-4f8d-8b67-809bb4b29023"
      },
      "execution_count": 18,
      "outputs": [
        {
          "output_type": "execute_result",
          "data": {
            "text/plain": [
              "30"
            ]
          },
          "metadata": {},
          "execution_count": 18
        }
      ]
    },
    {
      "cell_type": "markdown",
      "source": [
        "## Число мод"
      ],
      "metadata": {
        "id": "bbXfzbY4nMAh"
      }
    },
    {
      "cell_type": "code",
      "source": [
        "modes.shape[0]"
      ],
      "metadata": {
        "id": "KQ8cSyEBnNtC",
        "colab": {
          "base_uri": "https://localhost:8080/"
        },
        "outputId": "5eeb3ace-ed72-46a4-90b6-e2849ce4f578"
      },
      "execution_count": 24,
      "outputs": [
        {
          "output_type": "execute_result",
          "data": {
            "text/plain": [
              "5"
            ]
          },
          "metadata": {},
          "execution_count": 24
        }
      ]
    },
    {
      "cell_type": "markdown",
      "source": [
        "## Порядковая статистика с номером 42"
      ],
      "metadata": {
        "id": "OCSUIo2YnOLG"
      }
    },
    {
      "cell_type": "code",
      "source": [
        "np.partition(data, 42)[42]"
      ],
      "metadata": {
        "id": "PVj68V9inQKc",
        "colab": {
          "base_uri": "https://localhost:8080/"
        },
        "outputId": "910b18f4-496c-481b-e7e5-55349f85fe0c"
      },
      "execution_count": 38,
      "outputs": [
        {
          "output_type": "execute_result",
          "data": {
            "text/plain": [
              "-248"
            ]
          },
          "metadata": {},
          "execution_count": 38
        }
      ]
    },
    {
      "cell_type": "markdown",
      "source": [
        "## Медиана для неотрицательных"
      ],
      "metadata": {
        "id": "JJWuGUtEnQa4"
      }
    },
    {
      "cell_type": "code",
      "source": [
        "np.median(data[data>=0])"
      ],
      "metadata": {
        "id": "Hv3kQsgFnSHt",
        "colab": {
          "base_uri": "https://localhost:8080/"
        },
        "outputId": "88841482-36f0-43f7-c1bd-dfdd5ad3d4a8"
      },
      "execution_count": 26,
      "outputs": [
        {
          "output_type": "execute_result",
          "data": {
            "text/plain": [
              "127.0"
            ]
          },
          "metadata": {},
          "execution_count": 26
        }
      ]
    }
  ],
  "metadata": {
    "colab": {
      "name": "sem1.ipynb",
      "provenance": []
    },
    "kernelspec": {
      "display_name": "Python 3",
      "language": "python",
      "name": "python3"
    },
    "language_info": {
      "codemirror_mode": {
        "name": "ipython",
        "version": 3
      },
      "file_extension": ".py",
      "mimetype": "text/x-python",
      "name": "python",
      "nbconvert_exporter": "python",
      "pygments_lexer": "ipython3",
      "version": "3.7.3"
    }
  },
  "nbformat": 4,
  "nbformat_minor": 0
}